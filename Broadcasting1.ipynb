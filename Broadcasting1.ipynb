{
 "cells": [
  {
   "cell_type": "code",
   "execution_count": 65,
   "metadata": {},
   "outputs": [
    {
     "name": "stdout",
     "output_type": "stream",
     "text": [
      "x: [[0.73414285]\n",
      " [0.77352862]\n",
      " [0.17295972]]\n",
      "y: [0.63294588]\n",
      "Z: [[0.73414285]\n",
      " [0.77352862]\n",
      " [0.63294588]]\n"
     ]
    }
   ],
   "source": [
    "import numpy as np\n",
    "x=np.random.random((3,1))\n",
    "print(\"x:\",x)\n",
    "y=np.random.random((1,))\n",
    "print(\"y:\",y)\n",
    "z=np.maximum(x,y)\n",
    "print(\"Z:\",z)"
   ]
  },
  {
   "cell_type": "markdown",
   "metadata": {},
   "source": [
    "^obviously extends the y-Tensor to an 2Dimensional Tensor and finds the maximum of x and y in every element "
   ]
  },
  {
   "cell_type": "code",
   "execution_count": null,
   "metadata": {},
   "outputs": [],
   "source": [
    "def naive_vector_dot(x,y):\n",
    "    assert len(x.shape)==1\n",
    "    assert len(y.shape)==1\n",
    "    assert x.shape[0]==y.shape[0]\n",
    "    z=0.\n",
    "    for i in range(x.shape[0]):\n",
    "        z+=x[i]*y[i]\n",
    "    return z\n",
    "\n",
    "x=np.random.random((1,3))\n",
    "y=np.random.random((3,))\n",
    "    \n",
    "naive_vector_dot(x,y)"
   ]
  },
  {
   "cell_type": "code",
   "execution_count": 190,
   "metadata": {},
   "outputs": [
    {
     "name": "stdout",
     "output_type": "stream",
     "text": [
      "x: [[0.27016872 0.75429515 0.45329484]]\n",
      "x[i]: [0.27016872 0.75429515 0.45329484] [0.50083613 0.56175292 0.96160029]\n",
      "y: [0.50083613 0.56175292 0.96160029]\n",
      "z: [0.]\n",
      "z[i] [0.9949262]\n",
      "x[i]: [0.27016872 0.75429515 0.45329484]\n",
      "[0.9949262]\n"
     ]
    }
   ],
   "source": [
    "def naive_vector_dot(x,y):\n",
    "    assert len(x.shape)==1\n",
    "    assert len(y.shape)==1\n",
    "    assert x.shape[0]==y.shape[0]\n",
    "    z=0.\n",
    "    for i in range(x.shape[0]):\n",
    "        z+=x[i]*y[i]\n",
    "    return z\n",
    "\n",
    "def naive_matrix_vector_dot(x,y):\n",
    "    z=np.zeros(x.shape[0])\n",
    "    print(\"z:\",z)\n",
    "    for i in range(x.shape[0]):\n",
    "        z[i]=naive_vector_dot(x[i,:],y)\n",
    "        print(\"z[i]\",z)\n",
    "        print(\"x[i]:\",x[i,:])\n",
    "    return z\n",
    "x=np.random.random((1,3))\n",
    "print(\"x:\",x)\n",
    "\n",
    "y=np.random.random((3,))\n",
    "print(\"x[i]:\",x[0,:],y)\n",
    "print(\"y:\",y)\n",
    "z=naive_matrix_vector_dot(x,y)\n",
    "print(z)\n"
   ]
  },
  {
   "cell_type": "code",
   "execution_count": 181,
   "metadata": {},
   "outputs": [
    {
     "name": "stdout",
     "output_type": "stream",
     "text": [
      "[[0.58678397 0.48846123 0.39597964]]\n",
      "---\n",
      "[0.90747158 0.10902006 0.11562427]\n",
      "---\n"
     ]
    },
    {
     "ename": "AssertionError",
     "evalue": "",
     "output_type": "error",
     "traceback": [
      "\u001b[0;31m---------------------------------------------------------------------------\u001b[0m",
      "\u001b[0;31mAssertionError\u001b[0m                            Traceback (most recent call last)",
      "Cell \u001b[0;32mIn[181], line 7\u001b[0m\n\u001b[1;32m      5\u001b[0m \u001b[38;5;28mprint\u001b[39m(y)\n\u001b[1;32m      6\u001b[0m \u001b[38;5;28mprint\u001b[39m(\u001b[38;5;124m\"\u001b[39m\u001b[38;5;124m---\u001b[39m\u001b[38;5;124m\"\u001b[39m)\n\u001b[0;32m----> 7\u001b[0m \u001b[38;5;28;01massert\u001b[39;00m \u001b[38;5;28mlen\u001b[39m(x\u001b[38;5;241m.\u001b[39mshape)\u001b[38;5;241m==\u001b[39m\u001b[38;5;241m1\u001b[39m\n\u001b[1;32m      8\u001b[0m \u001b[38;5;28mprint\u001b[39m(\u001b[38;5;124m\"\u001b[39m\u001b[38;5;124m---\u001b[39m\u001b[38;5;124m\"\u001b[39m)\n\u001b[1;32m      9\u001b[0m \u001b[38;5;28mprint\u001b[39m(\u001b[38;5;28mlen\u001b[39m(y\u001b[38;5;241m.\u001b[39mshape))\n",
      "\u001b[0;31mAssertionError\u001b[0m: "
     ]
    }
   ],
   "source": [
    "x=np.random.random((1,3))\n",
    "y=np.random.random((3,))\n",
    "print(x)\n",
    "print(\"---\")\n",
    "print(y)\n",
    "print(\"---\")\n",
    "assert len(x.shape)==1\n",
    "print(\"---\")\n",
    "print(len(y.shape))\n",
    "print(\"---\")\n",
    "for i in range(x.shape[0]):\n",
    "        z[i]=naive_vector_dot(x[i,:],y)\n",
    "        print(\"z[i]\",z[i])\n",
    "\n"
   ]
  },
  {
   "cell_type": "code",
   "execution_count": 7,
   "metadata": {},
   "outputs": [
    {
     "name": "stdout",
     "output_type": "stream",
     "text": [
      "[0.29051832 0.81618843]\n",
      "[0.79546726 0.54950084]\n"
     ]
    },
    {
     "data": {
      "text/plain": [
       "0.6795940385442218"
      ]
     },
     "execution_count": 7,
     "metadata": {},
     "output_type": "execute_result"
    }
   ],
   "source": [
    "import numpy as np\n",
    "x=np.random.random((2))\n",
    "y=np.random.random((2))\n",
    "print(x)\n",
    "print(y)\n",
    "def vec_dot(x,y):\n",
    "    assert len(x.shape)==1\n",
    "    assert len(y.shape)==1\n",
    "    assert x.shape[0]==y.shape[0]\n",
    "    z=0\n",
    "    for i in range (x.shape[0]):\n",
    "        z+=x[i]*y[i]\n",
    "    return z\n",
    "vec_dot(x,y)"
   ]
  },
  {
   "cell_type": "markdown",
   "metadata": {},
   "source": [
    "^will return the dot product of two vectors, if both have 1 dimension"
   ]
  },
  {
   "cell_type": "code",
   "execution_count": 14,
   "metadata": {},
   "outputs": [
    {
     "name": "stdout",
     "output_type": "stream",
     "text": [
      "[[0.2302851  0.93501995]\n",
      " [0.83664664 0.40556493]]\n",
      "[0.84415706 0.82583329]\n"
     ]
    },
    {
     "data": {
      "text/plain": [
       "array([0.9665674 , 1.04119019])"
      ]
     },
     "execution_count": 14,
     "metadata": {},
     "output_type": "execute_result"
    }
   ],
   "source": [
    "import numpy as np\n",
    "x=np.random.random((2,2))\n",
    "y=np.random.random((2))\n",
    "print(x)\n",
    "print(y)\n",
    "def matrix_vec_dot(x,y):\n",
    "    assert len(x.shape)==2\n",
    "    assert len(y.shape)==1\n",
    "    assert x.shape[1]==y.shape[0]\n",
    "    z=np.zeros(x.shape[0])\n",
    "    for i in range(x.shape[0]):\n",
    "        for j in range(x.shape[1]):\n",
    "            z[i]+=x[i,j]*y[j]\n",
    "\n",
    "    return z\n",
    "matrix_vec_dot(x,y)"
   ]
  },
  {
   "cell_type": "code",
   "execution_count": 17,
   "metadata": {},
   "outputs": [
    {
     "data": {
      "text/plain": [
       "array([[0.6592466 , 0.98150331],\n",
       "       [0.77981049, 0.91043209]])"
      ]
     },
     "execution_count": 17,
     "metadata": {},
     "output_type": "execute_result"
    }
   ],
   "source": [
    "def vec_dot(x,y):\n",
    "    assert len(x.shape)==1\n",
    "    assert len(y.shape)==1\n",
    "    assert x.shape[0]==y.shape[0]\n",
    "    z=0\n",
    "    for i in range (x.shape[0]):\n",
    "        z+=x[i]*y[i]\n",
    "    return z\n",
    "\n",
    "def matrix_vec_dot(x,y):\n",
    "    assert len(x.shape)==2\n",
    "    assert len(y.shape)==2\n",
    "    assert x.shape[1]==y.shape[0]\n",
    "\n",
    "    z=np.zeros((x.shape[0],y.shape[1]))\n",
    "    for i in range(x.shape[0]):\n",
    "        for j in range(y.shape[1]):\n",
    "            row_x=x[i,:]\n",
    "            column_y=y[:,j]\n",
    "            z[i,j]=vec_dot(row_x,column_y)\n",
    "    return z\n",
    "\n",
    "x=np.random.random((2,2))\n",
    "y=np.random.random((2,2))\n",
    "matrix_vec_dot(x,y)"
   ]
  },
  {
   "cell_type": "markdown",
   "metadata": {},
   "source": [
    "^zwei matrizen miteinander verrechnen"
   ]
  },
  {
   "cell_type": "code",
   "execution_count": 25,
   "metadata": {},
   "outputs": [
    {
     "name": "stdout",
     "output_type": "stream",
     "text": [
      "(2, 3)\n",
      "[[0.81075218 0.30596367 0.71436839]\n",
      " [0.7322216  0.67640638 0.66316254]]\n",
      "(3, 2)\n",
      "[[0.81075218 0.30596367]\n",
      " [0.71436839 0.7322216 ]\n",
      " [0.67640638 0.66316254]]\n",
      "(6, 1)\n",
      "[[0.81075218]\n",
      " [0.30596367]\n",
      " [0.71436839]\n",
      " [0.7322216 ]\n",
      " [0.67640638]\n",
      " [0.66316254]]\n"
     ]
    }
   ],
   "source": [
    "x=np.random.random((2,3))\n",
    "print(x.shape)\n",
    "print(x)\n",
    "x=x.reshape((3,2))\n",
    "print(x.shape)\n",
    "print(x)\n",
    "x=x.reshape((6,1))\n",
    "print(x.shape)\n",
    "print(x)\n",
    "x=x.transpose()\n",
    "print(x.shape)\n",
    "print(x)"
   ]
  }
 ],
 "metadata": {
  "kernelspec": {
   "display_name": "Python 3",
   "language": "python",
   "name": "python3"
  },
  "language_info": {
   "codemirror_mode": {
    "name": "ipython",
    "version": 3
   },
   "file_extension": ".py",
   "mimetype": "text/x-python",
   "name": "python",
   "nbconvert_exporter": "python",
   "pygments_lexer": "ipython3",
   "version": "3.8.2"
  }
 },
 "nbformat": 4,
 "nbformat_minor": 2
}
