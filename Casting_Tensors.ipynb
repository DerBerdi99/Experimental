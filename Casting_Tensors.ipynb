{
 "cells": [
  {
   "cell_type": "code",
   "execution_count": null,
   "metadata": {},
   "outputs": [],
   "source": [
    "import numpy as np\n",
    "\n",
    "# Sample tensor (assuming it's a NumPy array)\n",
    "data = np.array([[[0.9, 0.0001234567893], [1.4, -2.2]], [[1.4, 0.4], [0.3, 0.5]], [[0.9, 0.3], [1.4, -2.2]], [[1.4, 0.4], [0.3, 0.5]]])\n",
    "\n",
    "# Cast the tensor to float32\n",
    "casted_data = data.astype('float32')\n",
    "\n",
    "# Print the original and casted data\n",
    "print(\"Original data:\\n\", data)\n",
    "print(data.dtype)\n",
    "print(\"\\nCasted data (float32):\\n\", casted_data)\n",
    "print(casted_data.dtype)\n"
   ]
  },
  {
   "cell_type": "markdown",
   "metadata": {},
   "source": [
    "shows the importance of saving numbers as a certain type, as precision goes lost (0.9 -> 8.999998e-1)"
   ]
  }
 ],
 "metadata": {
  "kernelspec": {
   "display_name": "Python 3",
   "language": "python",
   "name": "python3"
  },
  "language_info": {
   "name": "python",
   "version": "3.8.2"
  }
 },
 "nbformat": 4,
 "nbformat_minor": 2
}
