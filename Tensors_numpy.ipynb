{
 "cells": [
  {
   "cell_type": "code",
   "execution_count": 4,
   "metadata": {},
   "outputs": [
    {
     "name": "stdout",
     "output_type": "stream",
     "text": [
      "(3, 2, 4)\n",
      "(2, 3, 4)\n"
     ]
    }
   ],
   "source": [
    "import numpy as np\n",
    "import keras.backend as K\n",
    "a = np.array([[[11, 12, 13, 14],[15, 16, 17, 18]],[[21, 22, 23, 24],[25, 26, 27, 28]],[[31, 32, 33, 34],[35, 36, 37, 38]]])\n",
    "print(a.shape)\n",
    "b=K.permute_dimensions(a,(1,0,2))\n",
    "print(b.shape)"
   ]
  },
  {
   "cell_type": "code",
   "execution_count": 6,
   "metadata": {},
   "outputs": [
    {
     "name": "stdout",
     "output_type": "stream",
     "text": [
      "(3, 2, 2)\n",
      "tf.Tensor(\n",
      "[[[11 12]\n",
      "  [21 22]\n",
      "  [31 32]]\n",
      "\n",
      " [[13 14]\n",
      "  [23 24]\n",
      "  [33 34]]], shape=(2, 3, 2), dtype=int64)\n"
     ]
    }
   ],
   "source": [
    "import numpy as np\n",
    "a=np.array([[[11, 12],[13, 14]],[[21, 22],[23, 24]],[[31, 32],[33, 34]]])\n",
    "print(a.shape)\n",
    "b=K.permute_dimensions(a,(1,0,2))\n",
    "print(b)\n"
   ]
  }
 ],
 "metadata": {
  "kernelspec": {
   "display_name": "Python 3",
   "language": "python",
   "name": "python3"
  },
  "language_info": {
   "codemirror_mode": {
    "name": "ipython",
    "version": 3
   },
   "file_extension": ".py",
   "mimetype": "text/x-python",
   "name": "python",
   "nbconvert_exporter": "python",
   "pygments_lexer": "ipython3",
   "version": "3.8.2"
  }
 },
 "nbformat": 4,
 "nbformat_minor": 2
}
