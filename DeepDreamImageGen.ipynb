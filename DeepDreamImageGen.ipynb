{
 "cells": [
  {
   "cell_type": "code",
   "execution_count": 18,
   "metadata": {},
   "outputs": [
    {
     "name": "stderr",
     "output_type": "stream",
     "text": [
      "2024-06-19 00:24:03.777869: W tensorflow/c/c_api.cc:304] Operation '{name:'batch_normalization_1111/beta/Assign' id:57392 op device:{requested: '', assigned: ''} def:{{{node batch_normalization_1111/beta/Assign}} = AssignVariableOp[_has_manual_control_dependencies=true, dtype=DT_FLOAT, validate_shape=false](batch_normalization_1111/beta, batch_normalization_1111/beta/Initializer/zeros)}}' was changed by setting attribute after it was run by a session. This mutation will have no effect, and will trigger an error in the future. Either don't modify nodes after running them or create a new session.\n"
     ]
    },
    {
     "name": "stdout",
     "output_type": "stream",
     "text": [
      "Shape verarbeiten (988, 1318)\n"
     ]
    },
    {
     "name": "stderr",
     "output_type": "stream",
     "text": [
      "2024-06-19 00:24:18.053929: W tensorflow/c/c_api.cc:304] Operation '{name:'Variable_9/Assign' id:59524 op device:{requested: '', assigned: ''} def:{{{node Variable_9/Assign}} = AssignVariableOp[_has_manual_control_dependencies=true, dtype=DT_FLOAT, validate_shape=false](Variable_9, Variable_9/Initializer/initial_value)}}' was changed by setting attribute after it was run by a session. This mutation will have no effect, and will trigger an error in the future. Either don't modify nodes after running them or create a new session.\n"
     ]
    },
    {
     "name": "stdout",
     "output_type": "stream",
     "text": [
      "Der Wert der Verlustfunktion ist bei  0 : 1.5367161\n",
      "Der Wert der Verlustfunktion ist bei  1 : 2.0252647\n",
      "Der Wert der Verlustfunktion ist bei  2 : 2.748859\n",
      "Der Wert der Verlustfunktion ist bei  3 : 3.6859145\n",
      "Der Wert der Verlustfunktion ist bei  4 : 4.697443\n",
      "Der Wert der Verlustfunktion ist bei  5 : 5.7354937\n",
      "Der Wert der Verlustfunktion ist bei  6 : 6.7669625\n",
      "Der Wert der Verlustfunktion ist bei  7 : 7.8102484\n",
      "Der Wert der Verlustfunktion ist bei  8 : 8.807317\n",
      "Der Wert der Verlustfunktion ist bei  9 : 9.79586\n",
      "Shape verarbeiten (988, 1318)\n",
      "Shape verarbeiten (988, 1318)\n"
     ]
    }
   ],
   "source": [
    "from keras.applications import inception_v3\n",
    "from keras import backend as K\n",
    "import tensorflow as tf\n",
    "import numpy as np\n",
    "from PIL import Image\n",
    "import scipy\n",
    "from keras.preprocessing import image\n",
    "\n",
    "K.set_learning_phase(0)\n",
    "tf.compat.v1.disable_eager_execution() #eager exec. muss disabled werden sonst geht K.set_learning_phase nicht mehr\n",
    "\n",
    "model=inception_v3.InceptionV3(weights='imagenet',include_top=False)\n",
    "layer_contributions={'mixed2':0.2,'mixed3':3.,'mixed4':2.,'mixed5':1.5,}\n",
    "layer_dict=dict([(layer.name,layer) for layer in model.layers]) #fügt jedem layernamen die zugehörige instanz hinzu in einem dict\n",
    "loss=K.variable(0.) #verlustvariable, beiträge der layer werden hinzuaddiert\n",
    "for layer_name in layer_contributions:\n",
    "  coeff=layer_contributions[layer_name]\n",
    "  activation=layer_dict[layer_name].output\n",
    "  scaling=K.prod(K.cast(K.shape(activation),'float32'))\n",
    "  loss = loss+coeff*K.sum(K.square(activation[:,2:-2,2:-2,:]))/scaling\n",
    "dream = model.input\n",
    "grads=K.gradients(loss,dream)[0]\n",
    "grads=grads/K.maximum(K.mean(K.abs(grads)),1e-7)\n",
    "outputs=[loss,grads]\n",
    "fetch_loss_and_grads=K.function([dream],outputs)\n",
    "def eval_loss_and_grads(x):\n",
    "    outs=fetch_loss_and_grads([x])\n",
    "    loss_value=outs[0]\n",
    "    grads_values=outs[1]\n",
    "    return loss_value, grads_values\n",
    "def gradient_ascent(x,iterations,step,max_loss=None):\n",
    "    for i in range(iterations):\n",
    "        loss_value,grad_values=eval_loss_and_grads(x)\n",
    "        if max_loss is not None and loss_value > max_loss:\n",
    "            break\n",
    "        print('Der Wert der Verlustfunktion ist bei ',i,':',loss_value)\n",
    "        x = x+step*grad_values\n",
    "    return x\n",
    "\n",
    "def resize_img(img,size):\n",
    "  img=np.copy(img)\n",
    "  factors=(1,float(size[0])/img.shape[1],float(size[1])/img.shape[2],1)\n",
    "  return scipy.ndimage.zoom(img,factors,order=1)\n",
    "def save_img(img,fname):\n",
    "  pil_img=deprocess_image(np.copy(img))\n",
    "  #scipy.misc.imsave(fname,pil_img)\n",
    "  img = Image.fromarray(pil_img)\n",
    "  img.save(\"output_image.jpg\")\n",
    "def preprocess_image(image_path):\n",
    "  img=image.load_img(image_path)\n",
    "  img=image.img_to_array(img)\n",
    "  img=np.expand_dims(img,axis=0)\n",
    "  img=inception_v3.preprocess_input(img)\n",
    "  return img\n",
    "def deprocess_image(x):\n",
    "  if K.image_data_format()=='channels_first':\n",
    "    x=x.reshape((3,x.shape[2],x.shape[3]))\n",
    "    x=x.transpose((1,2,0))\n",
    "  else:\n",
    "    x=x.reshape((x.shape[1],x.shape[2],3))\n",
    "  x=x/2\n",
    "  x=x+0.5\n",
    "  x=x*255.\n",
    "  x=np.clip(x,0,255).astype('uint8')\n",
    "  return x\n",
    "\n",
    "step = 0.01\n",
    "num_octave=3\n",
    "octave_scale=1.4\n",
    "iterations=20\n",
    "max_loss=10.\n",
    "\n",
    "base_image_path='/Users/oliverzimmermann/Desktop/VisKomm3_A5/Berthold.Hannes.VK3.WiSe23.A5/Nightmare.jpg'\n",
    "img=preprocess_image(base_image_path)\n",
    "original_shape=img.shape[1:3]\n",
    "successive_shapes=[original_shape]\n",
    "for i in range(1,num_octave):\n",
    "    shape=tuple([int(dim/(octave_scale**i))\n",
    "        for dim in original_shape])\n",
    "    successive_shapes.append(shape)\n",
    "successive_shapes=successive_shapes[::-1]\n",
    "original_img=np.copy(img)\n",
    "shrunk_original_img=resize_img(img, successive_shapes[0])\n",
    "for shapes in successive_shapes:\n",
    "    print('Shape verarbeiten',shape)\n",
    "    img=resize_img(img,shape)\n",
    "    img=gradient_ascent(img,iterations=iterations,step=step,max_loss=max_loss)\n",
    "    upscaled_shrunk_original_img=resize_img(shrunk_original_img,shape)\n",
    "    same_size_original=resize_img(original_img,shape)\n",
    "    lost_detail= same_size_original-upscaled_shrunk_original_img\n",
    "    img = img + lost_detail\n",
    "    shrunk_original_img=resize_img(original_img,shape)\n",
    "    save_img(img,fname='Dream'+str(shape)+'.png')\n",
    "save_img(img,fname='finalImage.png')\n"
   ]
  }
 ],
 "metadata": {
  "kernelspec": {
   "display_name": "Python 3",
   "language": "python",
   "name": "python3"
  },
  "language_info": {
   "codemirror_mode": {
    "name": "ipython",
    "version": 3
   },
   "file_extension": ".py",
   "mimetype": "text/x-python",
   "name": "python",
   "nbconvert_exporter": "python",
   "pygments_lexer": "ipython3",
   "version": "3.8.2"
  }
 },
 "nbformat": 4,
 "nbformat_minor": 2
}
